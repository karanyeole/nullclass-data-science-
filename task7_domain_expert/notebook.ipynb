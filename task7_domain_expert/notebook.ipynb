{
 "cells": [
  {
   "cell_type": "markdown",
   "metadata": {},
   "source": [
    "# Task 7: Domain Expert Chatbot\n",
    "\n",
    "Summarizes arXiv papers and explains concepts using a Streamlit UI."
   ]
  },
  {
   "cell_type": "code",
   "execution_count": null,
   "metadata": {},
   "outputs": [],
   "source": [
    "from domain_expert import load_arxiv_data, summarize_paper\n",
    "\n",
    "df = load_arxiv_data('data/arxiv_sample.json')\n",
    "if df is None:\n",
    "    print('Failed to load dataset.')\n",
    "else:\n",
    "    query = 'machine learning'\n",
    "    matching_papers = df[df['title'].str.contains(query, case=False, na=False)]\n",
    "    if not matching_papers.empty:\n",
    "        paper = matching_papers.iloc[0]\n",
    "        summary = summarize_paper(paper['abstract'])\n",
    "        print(f'Title: {paper[\"title\"]}')\n",
    "        print(f'Summary: {summary}')\n",
    "        with open('outputs/paper_summary.txt', 'w', encoding='utf-8') as f:\n",
    "            f.write(summary)"
   ]
  }
 ],
 "metadata": {
  "kernelspec": {
   "display_name": "Python 3",
   "language": "python",
   "name": "python3"
  },
  "language_info": {
   "codemirror_mode": {
    "name": "ipython",
    "version": 3
   },
   "file_extension": ".py",
   "mimetype": "text/x-python",
   "name": "python",
   "nbconvert_exporter": "python",
   "pygments_lexer": "ipython3",
   "version": "3.8.0"
  }
 },
 "nbformat": 4,
 "nbformat_minor": 2
}