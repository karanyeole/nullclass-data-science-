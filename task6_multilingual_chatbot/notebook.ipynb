{
 "cells": [
  {
   "cell_type": "markdown",
   "metadata": {},
   "source": [
    "# Task 6: Multilingual Chatbot\n",
    "\n",
    "Handles queries in English, Spanish, and French with automatic language detection."
   ]
  },
  {
   "cell_type": "code",
   "execution_count": null,
   "metadata": {},
   "outputs": [],
   "source": [
    "from multilingual_chatbot import multilingual_response\n",
    "\n",
    "queries = ['What is AI?', '\u00bfQu\u00e9 es la IA?', \"Qu'est-ce que l'IA?\"]\n",
    "for query in queries:\n",
    "    response = multilingual_response(query)\n",
    "    print(f'Query: {query}')\n",
    "    print(f'Response: {response}\\n')\n",
    "    with open('outputs/responses.txt', 'a', encoding='utf-8') as f:\n",
    "        f.write(f'Query: {query}\\nResponse: {response}\\n\\n')"
   ]
  }
 ],
 "metadata": {
  "kernelspec": {
   "display_name": "Python 3",
   "language": "python",
   "name": "python3"
  },
  "language_info": {
   "codemirror_mode": {
    "name": "ipython",
    "version": 3
   },
   "file_extension": ".py",
   "mimetype": "text/x-python",
   "name": "python",
   "nbconvert_exporter": "python",
   "pygments_lexer": "ipython3",
   "version": "3.8.0"
  }
 },
 "nbformat": 4,
 "nbformat_minor": 2
}