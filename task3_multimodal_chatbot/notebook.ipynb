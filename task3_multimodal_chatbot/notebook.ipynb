{
 "cells": [
  {
   "cell_type": "markdown",
   "metadata": {},
   "source": [
    "# Task 3: Multi-Modal Chatbot\n",
    "\n",
    "Simulates a multi-modal chatbot handling text and image inputs (image mocked as text description)."
   ]
  },
  {
   "cell_type": "code",
   "execution_count": null,
   "metadata": {},
   "outputs": [],
   "source": [
    "from multimodal_chatbot import multimodal_response\n",
    "\n",
    "# Load sample text\n",
    "with open('data/sample_text.txt', 'r', encoding='utf-8') as f:\n",
    "    text_input = f.read()\n",
    "\n",
    "# Mock image input\n",
    "image_description = 'A medical chart showing patient data.'\n",
    "response = multimodal_response(text_input, image_description)\n",
    "print('Generated Response:')\n",
    "print(response)\n",
    "\n",
    "# Save response\n",
    "with open('outputs/generated_response.txt', 'w', encoding='utf-8') as f:\n",
    "    f.write(response)"
   ]
  }
 ],
 "metadata": {
  "kernelspec": {
   "display_name": "Python 3",
   "language": "python",
   "name": "python3"
  },
  "language_info": {
   "codemirror_mode": {
    "name": "ipython",
    "version": 3
   },
   "file_extension": ".py",
   "mimetype": "text/x-python",
   "name": "python",
   "nbconvert_exporter": "python",
   "pygments_lexer": "ipython3",
   "version": "3.8.0"
  }
 },
 "nbformat": 4,
 "nbformat_minor": 2
}