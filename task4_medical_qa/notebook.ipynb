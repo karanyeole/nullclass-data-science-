{
 "cells": [
  {
   "cell_type": "markdown",
   "metadata": {},
   "source": [
    "# Task 4: Medical Q&A Chatbot\n",
    "\n",
    "Uses MedQuAD dataset for question-answering with a Streamlit UI."
   ]
  },
  {
   "cell_type": "code",
   "execution_count": null,
   "metadata": {},
   "outputs": [],
   "source": [
    "from medical_qa import load_medquad_data, extract_entities, retrieve_answer\n",
    "\n",
    "# Load dataset\n",
    "df = load_medquad_data('data/medquad.csv')\n",
    "if df is None:\n",
    "    print('Failed to load dataset.')\n",
    "else:\n",
    "    query = 'What are the symptoms of diabetes?'\n",
    "    entities = extract_entities(query)\n",
    "    answer = retrieve_answer(query, df)\n",
    "    print(f'Entities: {entities}')\n",
    "    print(f'Answer: {answer}')\n",
    "    with open('outputs/qa_output.txt', 'w', encoding='utf-8') as f:\n",
    "        f.write(answer)"
   ]
  }
 ],
 "metadata": {
  "kernelspec": {
   "display_name": "Python 3",
   "language": "python",
   "name": "python3"
  },
  "language_info": {
   "codemirror_mode": {
    "name": "ipython",
    "version": 3
   },
   "file_extension": ".py",
   "mimetype": "text/x-python",
   "name": "python",
   "nbconvert_exporter": "python",
   "pygments_lexer": "ipython3",
   "version": "3.8.0"
  }
 },
 "nbformat": 4,
 "nbformat_minor": 2
}