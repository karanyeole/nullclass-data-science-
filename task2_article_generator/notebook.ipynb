{
 "cells": [
  {
   "cell_type": "markdown",
   "metadata": {},
   "source": [
    "# Task 2: Article Generator Chatbot\n",
    "\n",
    "Tests three LLMs for article generation and evaluates their performance."
   ]
  },
  {
   "cell_type": "code",
   "execution_count": null,
   "metadata": {},
   "outputs": [],
   "source": [
    "from article_generator import generate_article\n",
    "\n",
    "# Load prompt\n",
    "with open('data/sample_prompt.txt', 'r', encoding='utf-8') as f:\n",
    "    prompt = f.read()\n",
    "\n",
    "# Test models\n",
    "models = ['distilgpt2', 'gpt2', 'facebook/bart-large']\n",
    "for model in models:\n",
    "    article = generate_article(prompt, model)\n",
    "    print(f'Model: {model}')\n",
    "    print(f'Article: {article}')\n",
    "    with open(f'outputs/generated_article_{model}.txt', 'w', encoding='utf-8') as f:\n",
    "        f.write(article)"
   ]
  }
 ],
 "metadata": {
  "kernelspec": {
   "display_name": "Python 3",
   "language": "python",
   "name": "python3"
  },
  "language_info": {
   "name": "python",
   "version": "3.8.0",
   "mimetype": "text/x-python",
   "codemirror_mode": {
    "name": "ipython",
    "version": 3
   },
   "pygments_lexer": "ipython3",
   "nbconvert_exporter": "python",
   "file_extension": ".py"
  }
 },
 "nbformat": 4,
 "nbformat_minor": 2
}