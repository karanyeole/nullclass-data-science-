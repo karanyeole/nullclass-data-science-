{
 "cells": [
  {
   "cell_type": "markdown",
   "metadata": {},
   "source": [
    "# Extractive Summarization Notebook\n",
    "\n",
    "This notebook demonstrates the implementation of an extractive summarization tool using the `summa` library."
   ]
  },
  {
   "cell_type": "code",
   "execution_count": null,
   "metadata": {},
   "outputs": [],
   "source": [
    "import nltk\n",
    "from summa import summarizer\n",
    "nltk.download('punkt')\n",
    "\n",
    "# Load sample document\n",
    "with open('data/sample_document.txt', 'r', encoding='utf-8') as f:\n",
    "    document = f.read()\n",
    "\n",
    "# Generate summary\n",
    "summary = summarizer.summarize(document, ratio=0.3)\n",
    "print('Generated Summary:')\n",
    "print(summary)\n",
    "\n",
    "# Save summary\n",
    "with open('outputs/summary_output.txt', 'w', encoding='utf-8') as f:\n",
    "    f.write(summary)"
   ]
  },
  {
   "cell_type": "code",
   "execution_count": null,
   "metadata": {},
   "outputs": [],
   "source": [
    "from evaluate import evaluate_summary\n",
    "\n",
    "# Load reference summary\n",
    "with open('data/reference_summary.txt', 'r', encoding='utf-8') as f:\n",
    "    reference_summary = f.read()\n",
    "\n",
    "# Evaluate\n",
    "metrics = evaluate_summary(summary, reference_summary)\n",
    "print('Evaluation Metrics:')\n",
    "print(f'Precision: {metrics.get(\"precision\", 0):.2f}')\n",
    "print(f'Recall: {metrics.get(\"recall\", 0):.2f}')\n",
    "print(f'F1-Score: {metrics.get(\"f1_score\", 0):.2f}')"
   ]
  }
 ],
 "metadata": {
  "kernelspec": {
   "display_name": "Python 3",
   "language": "python",
   "name": "python3"
  },
  "language_info": {
   "codemirror_mode": {
    "name": "ipython",
    "version": 3
   },
   "file_extension": ".py",
   "mimetype": "text/x-python",
   "name": "python",
   "nbconvert_exporter": "python",
   "pygments_lexer": "ipython3",
   "version": "3.8.0"
  }
 },
 "nbformat": 4,
 "nbformat_minor": 2
}